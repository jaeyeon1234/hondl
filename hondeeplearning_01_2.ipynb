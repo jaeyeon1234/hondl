{
  "nbformat": 4,
  "nbformat_minor": 0,
  "metadata": {
    "colab": {
      "provenance": [],
      "authorship_tag": "ABX9TyO0DrTWa9IAzi5qEt4Z5T/T",
      "include_colab_link": true
    },
    "kernelspec": {
      "name": "python3",
      "display_name": "Python 3"
    },
    "language_info": {
      "name": "python"
    }
  },
  "cells": [
    {
      "cell_type": "markdown",
      "metadata": {
        "id": "view-in-github",
        "colab_type": "text"
      },
      "source": [
        "<a href=\"https://colab.research.google.com/github/jaeyeon1234/hondl/blob/main/hondeeplearning_01_2.ipynb\" target=\"_parent\"><img src=\"https://colab.research.google.com/assets/colab-badge.svg\" alt=\"Open In Colab\"/></a>"
      ]
    },
    {
      "cell_type": "code",
      "execution_count": 2,
      "metadata": {
        "id": "uhE6ysToGzzx"
      },
      "outputs": [],
      "source": [
        "import keras\n",
        "from keras import layers   #keras에서 layers 모듈 불러오기\n",
        "conv1=layers.Conv2D(filters=10, kernel_size=(3,3)) #필터개수와 커널 크기 지정하는 합성곱층 추가"
      ]
    },
    {
      "cell_type": "code",
      "source": [
        "#normal()함수를 사용해 배열 x를 만들어 합성곱층에 전달하고 반환된 텐서의 크기 출력\n",
        "\n",
        "import numpy as np\n",
        "x=np.random.normal(size=(10,28,28,1))\n",
        "conv_out=conv1(x)\n",
        "print(conv_out.shape)"
      ],
      "metadata": {
        "colab": {
          "base_uri": "https://localhost:8080/"
        },
        "id": "hl64GGn1HZtJ",
        "outputId": "f972f56a-bfbd-4850-9616-e6c049301848"
      },
      "execution_count": 3,
      "outputs": [
        {
          "output_type": "stream",
          "name": "stdout",
          "text": [
            "(10, 26, 26, 10)\n"
          ]
        }
      ]
    },
    {
      "cell_type": "code",
      "source": [
        "#세번째 파라미터 strides\n",
        "conv2 = layers.Conv2D(filters=10, kernel_size=(3,3), strides=(2,2))\n",
        "print(conv2(x).shape)"
      ],
      "metadata": {
        "colab": {
          "base_uri": "https://localhost:8080/"
        },
        "id": "5p2HlXEfOILX",
        "outputId": "cf320362-13e8-4aad-c96a-84f0255fa324"
      },
      "execution_count": 4,
      "outputs": [
        {
          "output_type": "stream",
          "name": "stdout",
          "text": [
            "(10, 13, 13, 10)\n"
          ]
        }
      ]
    },
    {
      "cell_type": "code",
      "source": [
        "#네번째 파라미터 padding\n",
        "conv3 = layers.Conv2D(filters=10, kernel_size=(3,3), strides=(2,2), padding='same')\n",
        "print(conv3(x).shape)"
      ],
      "metadata": {
        "colab": {
          "base_uri": "https://localhost:8080/"
        },
        "id": "rvSCOJtcZFmb",
        "outputId": "2ea331a4-2629-4dc9-bed4-d92aa5cf857b"
      },
      "execution_count": 5,
      "outputs": [
        {
          "output_type": "stream",
          "name": "stdout",
          "text": [
            "(10, 14, 14, 10)\n"
          ]
        }
      ]
    },
    {
      "cell_type": "code",
      "source": [
        "#스트라이드 기본값 1로 바꿈\n",
        "conv3 = layers.Conv2D(filters=10, kernel_size=(3,3), padding='same')\n",
        "print(conv3(x).shape)"
      ],
      "metadata": {
        "colab": {
          "base_uri": "https://localhost:8080/"
        },
        "id": "7CtZU1rIZv3M",
        "outputId": "43af1cd8-86fb-48b6-9c51-eb6e7fde2230"
      },
      "execution_count": 6,
      "outputs": [
        {
          "output_type": "stream",
          "name": "stdout",
          "text": [
            "(10, 28, 28, 10)\n"
          ]
        }
      ]
    },
    {
      "cell_type": "code",
      "source": [
        "#풀링층 만들기\n",
        "pool1 = layers.AveragePooling2D(pool_size=2)\n",
        "pool2 = layers.AveragePooling2D(pool_size=3)\n",
        "\n",
        "print(pool1(x).shape)\n",
        "print(pool2(x).shape)"
      ],
      "metadata": {
        "colab": {
          "base_uri": "https://localhost:8080/"
        },
        "id": "7xsuBZLvdfh4",
        "outputId": "863b5e94-aeb6-4047-9afe-31573cc424c7"
      },
      "execution_count": 8,
      "outputs": [
        {
          "output_type": "stream",
          "name": "stdout",
          "text": [
            "(10, 14, 14, 1)\n",
            "(10, 9, 9, 1)\n"
          ]
        }
      ]
    },
    {
      "cell_type": "code",
      "source": [
        "#밀집층 만들기\n",
        "dense1=layers.Dense(3)\n",
        "\n",
        "import numpy as np\n",
        "x2=np.array([[5,7]])\n",
        "print(dense1(x2).shape)"
      ],
      "metadata": {
        "colab": {
          "base_uri": "https://localhost:8080/"
        },
        "id": "9GqVEB4jfPPQ",
        "outputId": "be060c4a-dd40-4b74-9eb6-bec34493fbc9"
      },
      "execution_count": 9,
      "outputs": [
        {
          "output_type": "stream",
          "name": "stdout",
          "text": [
            "(1, 3)\n"
          ]
        }
      ]
    },
    {
      "cell_type": "code",
      "source": [
        "#가중치 크기 확인하기\n",
        "print(dense1.get_weights())\n",
        "\n",
        "dense1.set_weights([\n",
        "    np.array([[1,2,3], [4,5,6]]),\n",
        "    np.array([0,0,0])\n",
        "])\n",
        "\n",
        "print(dense1(x2))"
      ],
      "metadata": {
        "colab": {
          "base_uri": "https://localhost:8080/"
        },
        "id": "z-T91AgMgG41",
        "outputId": "e17fc3f7-b883-4dd7-8cbe-75993d1ccdcd"
      },
      "execution_count": 11,
      "outputs": [
        {
          "output_type": "stream",
          "name": "stdout",
          "text": [
            "[array([[ 0.51149607,  0.96635556, -0.5288117 ],\n",
            "       [ 0.34388685, -0.07186377,  0.22840941]], dtype=float32), array([0., 0., 0.], dtype=float32)]\n",
            "tf.Tensor([[33. 45. 57.]], shape=(1, 3), dtype=float32)\n"
          ]
        }
      ]
    },
    {
      "cell_type": "code",
      "source": [
        "#입력과 가중치의 점곱 계산하여 비교\n",
        "weight=dense1.get_weights()[0]\n",
        "print(np.dot(x2, weight))"
      ],
      "metadata": {
        "colab": {
          "base_uri": "https://localhost:8080/"
        },
        "id": "hz4w2OJqgw4j",
        "outputId": "4a4312a7-8b5f-4ea0-bc6e-2e45990114a5"
      },
      "execution_count": 12,
      "outputs": [
        {
          "output_type": "stream",
          "name": "stdout",
          "text": [
            "[[33. 45. 57.]]\n"
          ]
        }
      ]
    }
  ]
}